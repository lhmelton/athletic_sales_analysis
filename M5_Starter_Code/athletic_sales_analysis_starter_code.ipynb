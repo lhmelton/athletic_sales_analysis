{
 "cells": [
  {
   "cell_type": "code",
   "execution_count": 80,
   "metadata": {},
   "outputs": [],
   "source": [
    "# Import Libraries and Dependencies\n",
    "import pandas as pd"
   ]
  },
  {
   "cell_type": "markdown",
   "metadata": {},
   "source": [
    "### 1. Combine and Clean the Data\n",
    "#### Import CSVs"
   ]
  },
  {
   "cell_type": "code",
   "execution_count": 81,
   "metadata": {},
   "outputs": [
    {
     "name": "stdout",
     "output_type": "stream",
     "text": [
      "The columns and data types match.\n",
      "retailer            0\n",
      "retailer_id         0\n",
      "invoice_date        0\n",
      "region              0\n",
      "state               0\n",
      "city                0\n",
      "product             0\n",
      "price_per_unit      0\n",
      "units_sold          0\n",
      "total_sales         0\n",
      "operating_profit    0\n",
      "sales_method        0\n",
      "dtype: int64\n",
      "retailer             object\n",
      "retailer_id           int64\n",
      "invoice_date         object\n",
      "region               object\n",
      "state                object\n",
      "city                 object\n",
      "product              object\n",
      "price_per_unit        int64\n",
      "units_sold            int64\n",
      "total_sales           int64\n",
      "operating_profit    float64\n",
      "sales_method         object\n",
      "dtype: object\n",
      "retailer                    object\n",
      "retailer_id                  int64\n",
      "invoice_date        datetime64[ns]\n",
      "region                      object\n",
      "state                       object\n",
      "city                        object\n",
      "product                     object\n",
      "price_per_unit               int64\n",
      "units_sold                   int64\n",
      "total_sales                  int64\n",
      "operating_profit           float64\n",
      "sales_method                object\n",
      "dtype: object\n"
     ]
    }
   ],
   "source": [
    "# Read the CSV files into DataFrames\n",
    "df_2020 = pd.read_csv('Resources/athletic_sales_2020.csv')\n",
    "df_2021 = pd.read_csv('Resources/athletic_sales_2021.csv')\n",
    "\n",
    "# Check that the columns in the two DataFrames have similar names and data types\n",
    "if set(df_2020.columns) == set(df_2021.columns) and all(df_2020.dtypes == df_2021.dtypes):\n",
    "    print(\"The columns and data types match.\")\n",
    "else:\n",
    "    print(\"The columns or data types do not match.\")\n",
    "    print(\"Columns in 2020 data:\", df_2020.columns)\n",
    "    print(\"Columns in 2021 data:\", df_2021.columns)\n",
    "    print(\"Data types in 2020 data:\", df_2020.dtypes)\n",
    "    print(\"Data types in 2021 data:\", df_2021.dtypes)\n",
    "\n",
    "# Combine the DataFrames by the rows using an inner join, and reset the index\n",
    "combined_df = pd.concat([df_2020, df_2021], axis=0, join='inner').reset_index(drop=True)\n",
    "\n",
    "# Check for null values\n",
    "print(combined_df.isnull().sum())\n",
    "\n",
    "# Check each column's data type\n",
    "print(combined_df.dtypes)\n",
    "\n",
    "#Convert the \"invoice_date\" to a datetime datatype - This works do not erase.\n",
    "combined_df['invoice_date'] = pd.to_datetime(combined_df['invoice_date'], format='%m/%d/%y')\n",
    "\n",
    "# Confirm that the data type has been changed.\n",
    "print(combined_df.dtypes)\n",
    "\n",
    "\n"
   ]
  },
  {
   "cell_type": "code",
   "execution_count": null,
   "metadata": {},
   "outputs": [],
   "source": []
  },
  {
   "cell_type": "code",
   "execution_count": 82,
   "metadata": {},
   "outputs": [
    {
     "name": "stdout",
     "output_type": "stream",
     "text": [
      "         retailer  retailer_id invoice_date     region         state  \\\n",
      "0     Foot Locker      1185732       1/1/20  Northeast      New York   \n",
      "1     Foot Locker      1185732       1/1/20  Northeast  Pennsylvania   \n",
      "2     Foot Locker      1185732       1/1/20  Northeast  Pennsylvania   \n",
      "3     Foot Locker      1185732       1/1/20  Northeast      New York   \n",
      "4     Foot Locker      1185732       1/1/20  Northeast  Pennsylvania   \n",
      "...           ...          ...          ...        ...           ...   \n",
      "1292    West Gear      1128299     12/30/20       West    California   \n",
      "1293    West Gear      1128299     12/30/20       West    California   \n",
      "1294       Kohl's      1189833     12/30/20    Midwest     Minnesota   \n",
      "1295       Kohl's      1189833     12/30/20    Midwest     Minnesota   \n",
      "1296    West Gear      1128299     12/30/20       West    California   \n",
      "\n",
      "               city                  product  price_per_unit  units_sold  \\\n",
      "0          New York    Men's Street Footwear              50        1200   \n",
      "1      Philadelphia          Women's Apparel              68          83   \n",
      "2      Philadelphia          Women's Apparel              75         275   \n",
      "3          New York    Men's Street Footwear              34         384   \n",
      "4      Philadelphia          Women's Apparel              53          83   \n",
      "...             ...                      ...             ...         ...   \n",
      "1292  San Francisco          Women's Apparel              72         203   \n",
      "1293  San Francisco          Women's Apparel              80         700   \n",
      "1294    Minneapolis  Women's Street Footwear              41         119   \n",
      "1295    Minneapolis  Women's Street Footwear              45         475   \n",
      "1296  San Francisco          Women's Apparel              62         245   \n",
      "\n",
      "      total_sales  operating_profit sales_method  \n",
      "0          600000         300000.00     In-store  \n",
      "1            5644           2426.92       Online  \n",
      "2          206250          61875.00       Outlet  \n",
      "3           13056           6789.12       Outlet  \n",
      "4            4399           1407.68       Outlet  \n",
      "...           ...               ...          ...  \n",
      "1292        14616           3946.32       Online  \n",
      "1293       560000          84000.00       Outlet  \n",
      "1294         4879           2878.61       Online  \n",
      "1295       213750          96187.50       Outlet  \n",
      "1296        15190           2886.10       Outlet  \n",
      "\n",
      "[1297 rows x 12 columns]\n"
     ]
    }
   ],
   "source": [
    "# Display the 2020 sales DataFrame\n",
    "#print(\"\\n2020 Sales DataFrame:\")\n",
    "print(df_2020)"
   ]
  },
  {
   "cell_type": "code",
   "execution_count": 83,
   "metadata": {},
   "outputs": [
    {
     "name": "stdout",
     "output_type": "stream",
     "text": [
      "         retailer  retailer_id invoice_date     region         state  \\\n",
      "0       West Gear      1128299       1/1/21       West    California   \n",
      "1       West Gear      1128299       1/1/21       West    California   \n",
      "2          Kohl's      1189833       1/1/21    Midwest       Montana   \n",
      "3          Kohl's      1189833       1/1/21    Midwest       Montana   \n",
      "4       West Gear      1128299       1/1/21       West    California   \n",
      "...           ...          ...          ...        ...           ...   \n",
      "8341  Foot Locker      1185732     12/31/21  Northeast  Pennsylvania   \n",
      "8342  Foot Locker      1185732     12/31/21  Northeast  Pennsylvania   \n",
      "8343       Amazon      1185732     12/31/21  Northeast         Maine   \n",
      "8344       Amazon      1185732     12/31/21  Northeast         Maine   \n",
      "8345  Foot Locker      1185732     12/31/21  Northeast  Pennsylvania   \n",
      "\n",
      "               city                  product  price_per_unit  units_sold  \\\n",
      "0     San Francisco  Men's Athletic Footwear              65         750   \n",
      "1     San Francisco  Men's Athletic Footwear              51         233   \n",
      "2          Billings            Men's Apparel              50         275   \n",
      "3          Billings            Men's Apparel              47          77   \n",
      "4     San Francisco  Men's Athletic Footwear              64         225   \n",
      "...             ...                      ...             ...         ...   \n",
      "8341   Philadelphia            Men's Apparel              63          47   \n",
      "8342   Philadelphia            Men's Apparel              46          56   \n",
      "8343       Portland            Men's Apparel              52          36   \n",
      "8344       Portland            Men's Apparel              55         125   \n",
      "8345   Philadelphia            Men's Apparel              70         175   \n",
      "\n",
      "      total_sales  operating_profit sales_method  \n",
      "0          487500         121875.00       Outlet  \n",
      "1           11883           3208.41       Outlet  \n",
      "2          137500          82500.00       Outlet  \n",
      "3            3619           2714.25       Online  \n",
      "4           14400           5184.00       Online  \n",
      "...           ...               ...          ...  \n",
      "8341         2961           1362.06       Online  \n",
      "8342         2576           1004.64       Outlet  \n",
      "8343         1872            692.64       Online  \n",
      "8344        68750          17187.50       Outlet  \n",
      "8345       122500          42875.00       Outlet  \n",
      "\n",
      "[8346 rows x 12 columns]\n"
     ]
    }
   ],
   "source": [
    "# Display the 2021 sales DataFrame\n",
    "print(df_2021)  "
   ]
  },
  {
   "cell_type": "markdown",
   "metadata": {},
   "source": [
    "#### Check the data types of each DataFrame"
   ]
  },
  {
   "cell_type": "code",
   "execution_count": 84,
   "metadata": {},
   "outputs": [
    {
     "name": "stdout",
     "output_type": "stream",
     "text": [
      "The columns and data types in both DataFrames match.\n"
     ]
    }
   ],
   "source": [
    "# Check the 2020 sales data types.\n",
    "# Check if the column names are the same\n",
    "columns_match = set(df_2020.columns) == set(df_2021.columns)\n",
    "\n",
    "# Check if the data types of the columns are the same\n",
    "data_types_match = all(df_2020.dtypes == df_2021.dtypes)\n",
    "\n",
    "# Display the results\n",
    "if columns_match and data_types_match:\n",
    "    print(\"The columns and data types in both DataFrames match.\")\n",
    "else:\n",
    "    print(\"The columns and/or data types in the DataFrames do not match.\")\n",
    "    \n",
    "    if not columns_match:\n",
    "        print(\"Columns in 2020 data:\", df_2020.columns)\n",
    "        print(\"Columns in 2021 data:\", df_2021.columns)\n",
    "    \n",
    "    if not data_types_match:\n",
    "        print(\"Data types in 2020 data:\", df_2020.dtypes)\n",
    "        print(\"Data types in 2021 data:\", df_2021.dtypes)\n",
    "\n"
   ]
  },
  {
   "cell_type": "code",
   "execution_count": 85,
   "metadata": {},
   "outputs": [
    {
     "name": "stdout",
     "output_type": "stream",
     "text": [
      "The columns and data types in both DataFrames match.\n"
     ]
    }
   ],
   "source": [
    "# Check the 2021 sales data types.\n",
    "# Check if the column names are the same\n",
    "columns_match = set(df_2021.columns) == set(df_2021.columns)\n",
    "\n",
    "# Check if the data types of the columns are the same\n",
    "data_types_match = all(df_2021.dtypes == df_2021.dtypes)\n",
    "\n",
    "# Display the results\n",
    "if columns_match and data_types_match:\n",
    "    print(\"The columns and data types in both DataFrames match.\")\n",
    "else:\n",
    "    print(\"The columns and/or data types in the DataFrames do not match.\")\n",
    "    \n",
    "    if not columns_match:\n",
    "        print(\"Columns in 2021 data:\", df_2021.columns)\n",
    "        print(\"Columns in 2021 data:\", df_2021.columns)\n",
    "    \n",
    "    if not data_types_match:\n",
    "        print(\"Data types in 2021 data:\", df_2021.dtypes)\n",
    "        print(\"Data types in 2021 data:\", df_2021.dtypes)\n"
   ]
  },
  {
   "cell_type": "markdown",
   "metadata": {},
   "source": [
    "#### Combine the sales data by rows."
   ]
  },
  {
   "cell_type": "code",
   "execution_count": 86,
   "metadata": {},
   "outputs": [
    {
     "name": "stdout",
     "output_type": "stream",
     "text": [
      "         retailer  retailer_id invoice_date     region         state  \\\n",
      "0     Foot Locker      1185732       1/1/20  Northeast      New York   \n",
      "1     Foot Locker      1185732       1/1/20  Northeast  Pennsylvania   \n",
      "2     Foot Locker      1185732       1/1/20  Northeast  Pennsylvania   \n",
      "3     Foot Locker      1185732       1/1/20  Northeast      New York   \n",
      "4     Foot Locker      1185732       1/1/20  Northeast  Pennsylvania   \n",
      "...           ...          ...          ...        ...           ...   \n",
      "9638  Foot Locker      1185732     12/31/21  Northeast  Pennsylvania   \n",
      "9639  Foot Locker      1185732     12/31/21  Northeast  Pennsylvania   \n",
      "9640       Amazon      1185732     12/31/21  Northeast         Maine   \n",
      "9641       Amazon      1185732     12/31/21  Northeast         Maine   \n",
      "9642  Foot Locker      1185732     12/31/21  Northeast  Pennsylvania   \n",
      "\n",
      "              city                product  price_per_unit  units_sold  \\\n",
      "0         New York  Men's Street Footwear              50        1200   \n",
      "1     Philadelphia        Women's Apparel              68          83   \n",
      "2     Philadelphia        Women's Apparel              75         275   \n",
      "3         New York  Men's Street Footwear              34         384   \n",
      "4     Philadelphia        Women's Apparel              53          83   \n",
      "...            ...                    ...             ...         ...   \n",
      "9638  Philadelphia          Men's Apparel              63          47   \n",
      "9639  Philadelphia          Men's Apparel              46          56   \n",
      "9640      Portland          Men's Apparel              52          36   \n",
      "9641      Portland          Men's Apparel              55         125   \n",
      "9642  Philadelphia          Men's Apparel              70         175   \n",
      "\n",
      "      total_sales  operating_profit sales_method  \n",
      "0          600000         300000.00     In-store  \n",
      "1            5644           2426.92       Online  \n",
      "2          206250          61875.00       Outlet  \n",
      "3           13056           6789.12       Outlet  \n",
      "4            4399           1407.68       Outlet  \n",
      "...           ...               ...          ...  \n",
      "9638         2961           1362.06       Online  \n",
      "9639         2576           1004.64       Outlet  \n",
      "9640         1872            692.64       Online  \n",
      "9641        68750          17187.50       Outlet  \n",
      "9642       122500          42875.00       Outlet  \n",
      "\n",
      "[9643 rows x 12 columns]\n"
     ]
    }
   ],
   "source": [
    "# Combine the 2020 and 2021 sales DataFrames on the rows and reset the index.\n",
    "# Combine the DataFrames by the rows using an inner join\n",
    "combined_df = pd.concat([df_2020, df_2021], axis=0, join='inner')\n",
    "\n",
    "# Reset the index\n",
    "combined_df = combined_df.reset_index(drop=True)\n",
    "\n",
    "# Display the combined DataFrame\n",
    "print(combined_df)\n"
   ]
  },
  {
   "cell_type": "code",
   "execution_count": 87,
   "metadata": {},
   "outputs": [
    {
     "name": "stdout",
     "output_type": "stream",
     "text": [
      "retailer            False\n",
      "retailer_id         False\n",
      "invoice_date        False\n",
      "region              False\n",
      "state               False\n",
      "city                False\n",
      "product             False\n",
      "price_per_unit      False\n",
      "units_sold          False\n",
      "total_sales         False\n",
      "operating_profit    False\n",
      "sales_method        False\n",
      "dtype: bool\n",
      "Are there any null values in the DataFrame? False\n"
     ]
    }
   ],
   "source": [
    "# Check if any values are null.\n",
    "# Check for null values in the combined DataFrame\n",
    "null_values = combined_df.isnull().any()\n",
    "\n",
    "# Display columns with null values\n",
    "print(null_values)\n",
    "\n",
    "# Check if any null values exist in the entire DataFrame\n",
    "any_null = null_values.any()\n",
    "print(\"Are there any null values in the DataFrame?\", any_null)\n"
   ]
  },
  {
   "cell_type": "code",
   "execution_count": 88,
   "metadata": {},
   "outputs": [
    {
     "name": "stdout",
     "output_type": "stream",
     "text": [
      "retailer             object\n",
      "retailer_id           int64\n",
      "invoice_date         object\n",
      "region               object\n",
      "state                object\n",
      "city                 object\n",
      "product              object\n",
      "price_per_unit        int64\n",
      "units_sold            int64\n",
      "total_sales           int64\n",
      "operating_profit    float64\n",
      "sales_method         object\n",
      "dtype: object\n"
     ]
    }
   ],
   "source": [
    "# Check the data type of each column\n",
    "column_data_types = combined_df.dtypes\n",
    "\n",
    "# Display the data types\n",
    "print(column_data_types)\n"
   ]
  },
  {
   "cell_type": "code",
   "execution_count": 89,
   "metadata": {},
   "outputs": [
    {
     "name": "stdout",
     "output_type": "stream",
     "text": [
      "retailer                    object\n",
      "retailer_id                  int64\n",
      "invoice_date        datetime64[ns]\n",
      "region                      object\n",
      "state                       object\n",
      "city                        object\n",
      "product                     object\n",
      "price_per_unit               int64\n",
      "units_sold                   int64\n",
      "total_sales                  int64\n",
      "operating_profit           float64\n",
      "sales_method                object\n",
      "dtype: object\n"
     ]
    }
   ],
   "source": [
    "#Convert the \"invoice_date\" to a datetime datatype - This works do not erase.\n",
    "combined_df['invoice_date'] = pd.to_datetime(combined_df['invoice_date'], format='%m/%d/%y')\n",
    "\n",
    "# Display the data types to confirm the change\n",
    "print(combined_df.dtypes)\n"
   ]
  },
  {
   "cell_type": "code",
   "execution_count": 90,
   "metadata": {},
   "outputs": [
    {
     "name": "stdout",
     "output_type": "stream",
     "text": [
      "retailer                    object\n",
      "retailer_id                  int64\n",
      "invoice_date        datetime64[ns]\n",
      "region                      object\n",
      "state                       object\n",
      "city                        object\n",
      "product                     object\n",
      "price_per_unit               int64\n",
      "units_sold                   int64\n",
      "total_sales                  int64\n",
      "operating_profit           float64\n",
      "sales_method                object\n",
      "dtype: object\n"
     ]
    }
   ],
   "source": [
    "# Confirm that the \"invoice_date\" data type has been changed.\n",
    "print(combined_df.dtypes)"
   ]
  },
  {
   "cell_type": "markdown",
   "metadata": {},
   "source": [
    "### 2. Determine which Region Sold the Most Products"
   ]
  },
  {
   "cell_type": "markdown",
   "metadata": {},
   "source": [
    "#### Using `groupby`"
   ]
  },
  {
   "cell_type": "code",
   "execution_count": 91,
   "metadata": {},
   "outputs": [
    {
     "name": "stdout",
     "output_type": "stream",
     "text": [
      "\n",
      "Top Regions by Products Sold:\n",
      "       region      state           city  Total Products Sold\n",
      "27      South   Arkansas    Little Rock                  216\n",
      "40  Southeast   Virginia       Richmond                  216\n",
      "32      South      Texas         Dallas                  216\n",
      "31      South  Tennessee      Knoxville                  216\n",
      "30      South   Oklahoma  Oklahoma City                  216\n"
     ]
    }
   ],
   "source": [
    "# Determine which Region Sold the Most Products\n",
    "# Use the groupby function to create a multi-index DataFrame\n",
    "aggregated_sales = combined_df.groupby(['region', 'state', 'city']).size().reset_index(name='Total Products Sold')\n",
    "\n",
    "# Sort the results in ascending order to show the top five regions, state, and city\n",
    "top_regions_by_products_sold = aggregated_sales.sort_values(by='Total Products Sold', ascending=False).head(5)\n",
    "\n",
    "print(\"\\nTop Regions by Products Sold:\")\n",
    "print(top_regions_by_products_sold)"
   ]
  },
  {
   "cell_type": "markdown",
   "metadata": {},
   "source": [
    "### 3. Determine which Region had the Most Sales"
   ]
  },
  {
   "cell_type": "markdown",
   "metadata": {},
   "source": [
    "#### Using `groupby`"
   ]
  },
  {
   "cell_type": "code",
   "execution_count": 92,
   "metadata": {},
   "outputs": [
    {
     "name": "stdout",
     "output_type": "stream",
     "text": [
      "       region           state           city  Total Sales Amount\n",
      "21  Northeast        New York       New York            39801235\n",
      "44       West      California  San Francisco            33973228\n",
      "34  Southeast         Florida          Miami            31600863\n",
      "39  Southeast  South Carolina     Charleston            29285637\n",
      "35  Southeast         Florida        Orlando            27682851\n"
     ]
    }
   ],
   "source": [
    "# Show the total sales for the products sold for each region, state, and city.\n",
    "# Rename the \"total_sales\" column to \"Total Sales\"\n",
    "# Show the top 5 results.\n",
    "# Use the groupby function to create a multi-index DataFrame\n",
    "aggregated_sales_amount = combined_df.groupby(['region', 'state', 'city'])['total_sales'].sum().reset_index(name='Total Sales Amount')\n",
    "\n",
    "# Sort the results in ascending order to show the top five regions, state, and city by sales amount\n",
    "top_regions_by_sales_amount = aggregated_sales_amount.sort_values(by='Total Sales Amount', ascending=False).head(5)\n",
    "\n",
    "print(top_regions_by_sales_amount)\n",
    "\n"
   ]
  },
  {
   "cell_type": "markdown",
   "metadata": {
    "jp-MarkdownHeadingCollapsed": true,
    "tags": []
   },
   "source": [
    "### 4. Determine which Retailer had the Most Sales"
   ]
  },
  {
   "cell_type": "markdown",
   "metadata": {},
   "source": [
    "#### Using `groupby`"
   ]
  },
  {
   "cell_type": "code",
   "execution_count": 93,
   "metadata": {},
   "outputs": [
    {
     "name": "stdout",
     "output_type": "stream",
     "text": [
      "        retailer     region           state           city  \\\n",
      "103    West Gear       West      California  San Francisco   \n",
      "50        Kohl's       West      California    Los Angeles   \n",
      "22   Foot Locker  Northeast        New York       New York   \n",
      "109    West Gear       West      Washington        Seattle   \n",
      "33   Foot Locker  Southeast  South Carolina     Charleston   \n",
      "\n",
      "     Total Sales by Retailer  \n",
      "103                 32794405  \n",
      "50                  25127160  \n",
      "22                  25008568  \n",
      "109                 24862675  \n",
      "33                  24822280  \n"
     ]
    }
   ],
   "source": [
    "# Use the groupby function to create a multi-index DataFrame with the specified columns and aggregate sales\n",
    "aggregated_retailer_sales = combined_df.groupby(['retailer', 'region', 'state', 'city'])['total_sales'].sum().reset_index(name='Total Sales by Retailer')\n",
    "\n",
    "# Sort the results in ascending order to show the top five retailers by sales amount\n",
    "top_retailers_by_sales = aggregated_retailer_sales.sort_values(by='Total Sales by Retailer', ascending=False).head(5)\n",
    "\n",
    "print(top_retailers_by_sales)\n"
   ]
  },
  {
   "cell_type": "markdown",
   "metadata": {},
   "source": [
    "### 5. Determine which Retailer Sold the Most Women's Athletic Footwear"
   ]
  },
  {
   "cell_type": "code",
   "execution_count": 94,
   "metadata": {},
   "outputs": [
    {
     "name": "stdout",
     "output_type": "stream",
     "text": [
      "       retailer  retailer_id invoice_date     region         state  \\\n",
      "21  Foot Locker      1185732   2020-01-04  Northeast      New York   \n",
      "22  Foot Locker      1185732   2020-01-04  Northeast      New York   \n",
      "23  Foot Locker      1185732   2020-01-04  Northeast      New York   \n",
      "26    West Gear      1128299   2020-01-05  Northeast  Pennsylvania   \n",
      "27    West Gear      1128299   2020-01-05  Northeast  Pennsylvania   \n",
      "\n",
      "            city                    product  price_per_unit  units_sold  \\\n",
      "21      New York  Women's Athletic Footwear              36         281   \n",
      "22      New York  Women's Athletic Footwear              41         247   \n",
      "23      New York  Women's Athletic Footwear              45         850   \n",
      "26  Philadelphia  Women's Athletic Footwear              45         300   \n",
      "27  Philadelphia  Women's Athletic Footwear              34          90   \n",
      "\n",
      "    total_sales  operating_profit sales_method  \n",
      "21        10116           3742.92       Outlet  \n",
      "22        10127           4658.42       Online  \n",
      "23       382500         133875.00     In-store  \n",
      "26       135000          47250.00       Outlet  \n",
      "27         3060           1254.60       Outlet  \n"
     ]
    }
   ],
   "source": [
    "# Filter the sales data to get the women's athletic footwear sales data.\n",
    "# Filter the combined DataFrame for only Women's Athletic Footwear sales data\n",
    "womens_athletic_footwear_sales = combined_df[combined_df['product'] == \"Women's Athletic Footwear\"]\n",
    "print(womens_athletic_footwear_sales.head())\n"
   ]
  },
  {
   "cell_type": "markdown",
   "metadata": {},
   "source": [
    "#### Using `groupby`"
   ]
  },
  {
   "cell_type": "code",
   "execution_count": 95,
   "metadata": {},
   "outputs": [
    {
     "name": "stdout",
     "output_type": "stream",
     "text": [
      "          retailer     region           state           city  \\\n",
      "101      West Gear       West      California  San Francisco   \n",
      "22     Foot Locker  Northeast        New York       New York   \n",
      "49          Kohl's       West      California    Los Angeles   \n",
      "33     Foot Locker  Southeast  South Carolina     Charleston   \n",
      "68   Sports Direct      South           Texas         Dallas   \n",
      "\n",
      "     Total Women's Footwear Sold  \n",
      "101                        12107  \n",
      "22                         10996  \n",
      "49                         10826  \n",
      "33                          8814  \n",
      "68                          8790  \n"
     ]
    }
   ],
   "source": [
    "# Show the total number of women's athletic footwear sold for each retailer, region, state, and city.\n",
    "# Rename the \"units_sold\" column to \"Womens_Footwear_Units_Sold\"\n",
    "\n",
    "# Show the top 5 results.\n",
    "# Use the groupby function on the filtered DataFrame for Women's Athletic Footwear sales data\n",
    "# to create a multi-index DataFrame with the specified columns and aggregate the units sold\n",
    "top_womens_footwear_retailers = womens_athletic_footwear_sales.groupby(['retailer', 'region', 'state', 'city'])['units_sold'].sum().reset_index(name='Total Women\\'s Footwear Sold')\n",
    "\n",
    "# Sort the results to show the top five retailers by units of women's athletic footwear sold\n",
    "top_womens_footwear_retailers_sorted = top_womens_footwear_retailers.sort_values(by='Total Women\\'s Footwear Sold', ascending=False).head(5)\n",
    "\n",
    "print(top_womens_footwear_retailers_sorted)\n"
   ]
  },
  {
   "cell_type": "markdown",
   "metadata": {},
   "source": [
    "### 5. Determine the Day with the Most Women's Athletic Footwear Sales"
   ]
  },
  {
   "cell_type": "code",
   "execution_count": 96,
   "metadata": {},
   "outputs": [
    {
     "name": "stdout",
     "output_type": "stream",
     "text": [
      "              Total Sales\n",
      "invoice_date             \n",
      "2021-07-16        1521825\n",
      "2021-12-16        1473497\n",
      "2021-06-17        1376988\n",
      "2021-08-17        1086294\n",
      "2021-07-23        1021806\n",
      "2021-11-17        1021145\n",
      "2021-12-09         915011\n",
      "2021-06-24         884238\n",
      "2021-07-09         869054\n",
      "2021-08-10         839120\n"
     ]
    }
   ],
   "source": [
    "# Create a pivot table with the 'invoice_date' column is the index, and the \"total_sales\" as the values.\n",
    "\n",
    "\n",
    "# Optional: Rename the \"total_sales\" column to \"Total Sales\"\n",
    "\n",
    "\n",
    "# Show the table.\n",
    "# Create a pivot table with 'invoice_date' as the index and 'total_sales' as the values parameter\n",
    "pivot_table = womens_athletic_footwear_sales.pivot_table(index='invoice_date', values='total_sales', aggfunc='sum')\n",
    "\n",
    "# Rename the aggregated column to reflect the aggregation of the data\n",
    "pivot_table.columns = ['Total Sales']\n",
    "\n",
    "# Resample the pivot table to get daily total sales\n",
    "daily_sales = pivot_table.resample('D').sum()\n",
    "\n",
    "# Sort the resampled DataFrame to show the top 10 days with the most sales\n",
    "top_daily_sales = daily_sales.sort_values(by='Total Sales', ascending=False).head(10)\n",
    "\n",
    "print(top_daily_sales)\n"
   ]
  },
  {
   "cell_type": "code",
   "execution_count": 78,
   "metadata": {},
   "outputs": [],
   "source": [
    "# Resample the pivot table into daily bins, and get the total sales for each day.\n",
    "\n",
    "\n",
    "# Sort the resampled pivot table in ascending order on \"Total Sales\".\n"
   ]
  },
  {
   "cell_type": "markdown",
   "metadata": {},
   "source": [
    "### 6.  Determine the Week with the Most Women's Athletic Footwear Sales"
   ]
  },
  {
   "cell_type": "code",
   "execution_count": 97,
   "metadata": {},
   "outputs": [
    {
     "name": "stdout",
     "output_type": "stream",
     "text": [
      "              Total Sales\n",
      "invoice_date             \n",
      "2021-12-19        3098970\n",
      "2021-12-12        2922161\n",
      "2021-07-11        2835078\n",
      "2021-07-18        2801449\n",
      "2021-11-14        2531721\n",
      "2021-08-22        2491259\n",
      "2021-08-15        2463941\n",
      "2021-11-21        2449537\n",
      "2021-05-16        2422132\n",
      "2021-06-13        2358602\n"
     ]
    }
   ],
   "source": [
    "# Resample the pivot table into weekly bins, and get the total sales for each week.\n",
    "\n",
    "\n",
    "# Sort the resampled pivot table in ascending order on \"Total Sales\".\n",
    "# Resample the pivot table to aggregate sales data weekly\n",
    "weekly_sales = pivot_table.resample('W').sum()\n",
    "\n",
    "# Sort the resampled DataFrame to show the top 10 weeks with the most sales\n",
    "top_weekly_sales = weekly_sales.sort_values(by='Total Sales', ascending=False).head(10)\n",
    "\n",
    "print(top_weekly_sales)\n"
   ]
  },
  {
   "cell_type": "code",
   "execution_count": null,
   "metadata": {},
   "outputs": [],
   "source": []
  }
 ],
 "metadata": {
  "kernelspec": {
   "display_name": "Python 3 (ipykernel)",
   "language": "python",
   "name": "python3"
  },
  "language_info": {
   "codemirror_mode": {
    "name": "ipython",
    "version": 3
   },
   "file_extension": ".py",
   "mimetype": "text/x-python",
   "name": "python",
   "nbconvert_exporter": "python",
   "pygments_lexer": "ipython3",
   "version": "3.10.13"
  }
 },
 "nbformat": 4,
 "nbformat_minor": 4
}
